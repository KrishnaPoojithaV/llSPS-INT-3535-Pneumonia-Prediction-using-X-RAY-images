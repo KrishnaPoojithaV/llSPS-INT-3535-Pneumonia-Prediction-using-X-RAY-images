{
 "cells": [
  {
   "cell_type": "code",
   "execution_count": 1,
   "metadata": {},
   "outputs": [],
   "source": [
    "#importing libraries\n",
    "from keras.models import Sequential\n",
    "from keras.layers import Dense\n",
    "from keras.layers import Convolution2D\n",
    "from keras.layers import MaxPooling2D\n",
    "from keras.layers import Flatten"
   ]
  },
  {
   "cell_type": "code",
   "execution_count": 2,
   "metadata": {},
   "outputs": [],
   "source": [
    "#initialize the model\n",
    "model =Sequential()"
   ]
  },
  {
   "cell_type": "code",
   "execution_count": 3,
   "metadata": {},
   "outputs": [],
   "source": [
    "model.add(Convolution2D(32,(3,3),input_shape = (64,64,3),activation='relu'))"
   ]
  },
  {
   "cell_type": "code",
   "execution_count": 4,
   "metadata": {},
   "outputs": [],
   "source": [
    "model.add(MaxPooling2D(pool_size= (2,2)))"
   ]
  },
  {
   "cell_type": "code",
   "execution_count": 5,
   "metadata": {},
   "outputs": [],
   "source": [
    "model.add(Flatten())"
   ]
  },
  {
   "cell_type": "code",
   "execution_count": 6,
   "metadata": {},
   "outputs": [],
   "source": [
    "model.add(Dense(units=128,kernel_initializer='uniform',activation='relu'))"
   ]
  },
  {
   "cell_type": "code",
   "execution_count": 7,
   "metadata": {},
   "outputs": [],
   "source": [
    "model.add(Dense(units=1,activation='sigmoid',kernel_initializer='uniform'))"
   ]
  },
  {
   "cell_type": "code",
   "execution_count": 8,
   "metadata": {},
   "outputs": [],
   "source": [
    "#augumentation to images\n",
    "from keras.preprocessing.image import ImageDataGenerator\n",
    "train_datagen = ImageDataGenerator(rescale= 1./255,shear_range=0.2,zoom_range=0.2,horizontal_flip=True)\n",
    "test_datagen = ImageDataGenerator(rescale= 1./255)"
   ]
  },
  {
   "cell_type": "code",
   "execution_count": 9,
   "metadata": {},
   "outputs": [
    {
     "name": "stdout",
     "output_type": "stream",
     "text": [
      "Found 5216 images belonging to 2 classes.\n",
      "Found 624 images belonging to 2 classes.\n"
     ]
    }
   ],
   "source": [
    "x_train = train_datagen.flow_from_directory(r'C:\\Users\\lenovo\\Downloads\\SB-proj\\chest_xray\\train',target_size= (64,64), batch_size=32, class_mode='binary')\n",
    "x_test = test_datagen.flow_from_directory(r'C:\\Users\\lenovo\\Downloads\\SB-proj\\chest_xray\\test',target_size=(64,64), batch_size=32, class_mode='binary')"
   ]
  },
  {
   "cell_type": "code",
   "execution_count": 10,
   "metadata": {},
   "outputs": [
    {
     "name": "stdout",
     "output_type": "stream",
     "text": [
      "{'NORMAL': 0, 'PNEUMONIA': 1}\n"
     ]
    }
   ],
   "source": [
    "print(x_train.class_indices)"
   ]
  },
  {
   "cell_type": "code",
   "execution_count": 18,
   "metadata": {},
   "outputs": [],
   "source": [
    "model.compile(loss = 'binary_crossentropy', optimizer='adam', metrics= ['accuracy'])"
   ]
  },
  {
   "cell_type": "code",
   "execution_count": 21,
   "metadata": {},
   "outputs": [
    {
     "name": "stdout",
     "output_type": "stream",
     "text": [
      "Epoch 1/10\n",
      "163/163 [==============================] - 77s 473ms/step - loss: 0.1534 - accuracy: 0.9406 - val_loss: 0.4216 - val_accuracy: 0.8381\n",
      "Epoch 2/10\n",
      "163/163 [==============================] - 78s 476ms/step - loss: 0.1433 - accuracy: 0.9467 - val_loss: 0.4076 - val_accuracy: 0.8718\n",
      "Epoch 3/10\n",
      "163/163 [==============================] - 76s 467ms/step - loss: 0.1327 - accuracy: 0.9486 - val_loss: 0.6157 - val_accuracy: 0.8317\n",
      "Epoch 4/10\n",
      "163/163 [==============================] - 76s 468ms/step - loss: 0.1445 - accuracy: 0.9433 - val_loss: 0.5532 - val_accuracy: 0.8205\n",
      "Epoch 5/10\n",
      "163/163 [==============================] - 75s 462ms/step - loss: 0.1487 - accuracy: 0.9436 - val_loss: 0.3870 - val_accuracy: 0.8750\n",
      "Epoch 6/10\n",
      "163/163 [==============================] - 75s 460ms/step - loss: 0.1365 - accuracy: 0.9479 - val_loss: 0.3461 - val_accuracy: 0.8830\n",
      "Epoch 7/10\n",
      "163/163 [==============================] - 75s 460ms/step - loss: 0.1282 - accuracy: 0.9488 - val_loss: 0.3163 - val_accuracy: 0.8878\n",
      "Epoch 8/10\n",
      "163/163 [==============================] - 76s 469ms/step - loss: 0.1288 - accuracy: 0.9486 - val_loss: 0.2873 - val_accuracy: 0.8862\n",
      "Epoch 9/10\n",
      "163/163 [==============================] - 75s 461ms/step - loss: 0.1302 - accuracy: 0.9523 - val_loss: 0.4388 - val_accuracy: 0.8702\n",
      "Epoch 10/10\n",
      "163/163 [==============================] - 75s 459ms/step - loss: 0.1167 - accuracy: 0.9546 - val_loss: 0.3094 - val_accuracy: 0.8894\n"
     ]
    },
    {
     "data": {
      "text/plain": [
       "<tensorflow.python.keras.callbacks.History at 0x27b3f050550>"
      ]
     },
     "execution_count": 21,
     "metadata": {},
     "output_type": "execute_result"
    }
   ],
   "source": [
    "model.fit_generator(x_train,steps_per_epoch=163,epochs=10,validation_data=x_test,validation_steps= 20)"
   ]
  },
  {
   "cell_type": "code",
   "execution_count": 22,
   "metadata": {},
   "outputs": [],
   "source": [
    "model.save(\"cnn_model.h5\") #h5 extension for keras models"
   ]
  },
  {
   "cell_type": "code",
   "execution_count": null,
   "metadata": {},
   "outputs": [],
   "source": []
  }
 ],
 "metadata": {
  "kernelspec": {
   "display_name": "Python 3",
   "language": "python",
   "name": "python3"
  },
  "language_info": {
   "codemirror_mode": {
    "name": "ipython",
    "version": 3
   },
   "file_extension": ".py",
   "mimetype": "text/x-python",
   "name": "python",
   "nbconvert_exporter": "python",
   "pygments_lexer": "ipython3",
   "version": "3.8.1"
  }
 },
 "nbformat": 4,
 "nbformat_minor": 4
}
